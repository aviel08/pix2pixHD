{
  "nbformat": 4,
  "nbformat_minor": 0,
  "metadata": {
    "kernelspec": {
      "display_name": "Python 3",
      "language": "python",
      "name": "python3"
    },
    "language_info": {
      "codemirror_mode": {
        "name": "ipython",
        "version": 3
      },
      "file_extension": ".py",
      "mimetype": "text/x-python",
      "name": "python",
      "nbconvert_exporter": "python",
      "pygments_lexer": "ipython3",
      "version": "3.6.5"
    },
    "colab": {
      "name": "Inference with ONNX Runtime (Multiple Inputs).ipynb",
      "provenance": [],
      "collapsed_sections": [],
      "include_colab_link": true
    }
  },
  "cells": [
    {
      "cell_type": "markdown",
      "metadata": {
        "id": "view-in-github",
        "colab_type": "text"
      },
      "source": [
        "<a href=\"https://colab.research.google.com/github/aviel08/pix2pixHD/blob/master/Inference_with_ONNX_Runtime_(Multiple_Inputs).ipynb\" target=\"_parent\"><img src=\"https://colab.research.google.com/assets/colab-badge.svg\" alt=\"Open In Colab\"/></a>"
      ]
    },
    {
      "cell_type": "markdown",
      "metadata": {
        "id": "jqtKbsGwmz0w",
        "colab_type": "text"
      },
      "source": [
        "## Inference with ONNX Runtime (Multiple Inputs)\n",
        "\n",
        "Inference of [Pix2pixHD](https://github.com/NVIDIA/pix2pixHD), the model expects 2 inputs.\n",
        "\n",
        "![alt text](https://i.imgur.com/T92yob6.jpg)"
      ]
    },
    {
      "cell_type": "code",
      "metadata": {
        "id": "fSjnOMYQF4bR",
        "colab_type": "code",
        "outputId": "d56d2b7c-bfed-4373-b591-0d32f77d47d4",
        "colab": {
          "base_uri": "https://localhost:8080/",
          "height": 238
        }
      },
      "source": [
        "!pip install onnxruntime"
      ],
      "execution_count": 1,
      "outputs": [
        {
          "output_type": "stream",
          "text": [
            "Collecting onnxruntime\n",
            "\u001b[?25l  Downloading https://files.pythonhosted.org/packages/69/39/404df5ee608c548dacde43a17faf0248b183fa6163cf9c06aca6a511d760/onnxruntime-1.2.0-cp36-cp36m-manylinux1_x86_64.whl (3.7MB)\n",
            "\u001b[K     |████████████████████████████████| 3.7MB 2.8MB/s \n",
            "\u001b[?25hRequirement already satisfied: numpy>=1.18.0 in /usr/local/lib/python3.6/dist-packages (from onnxruntime) (1.18.2)\n",
            "Collecting onnx>=1.2.3\n",
            "\u001b[?25l  Downloading https://files.pythonhosted.org/packages/f5/f4/e126b60d109ad1e80020071484b935980b7cce1e4796073aab086a2d6902/onnx-1.6.0-cp36-cp36m-manylinux1_x86_64.whl (4.8MB)\n",
            "\u001b[K     |████████████████████████████████| 4.8MB 31.4MB/s \n",
            "\u001b[?25hRequirement already satisfied: six in /usr/local/lib/python3.6/dist-packages (from onnx>=1.2.3->onnxruntime) (1.12.0)\n",
            "Requirement already satisfied: typing-extensions>=3.6.2.1 in /usr/local/lib/python3.6/dist-packages (from onnx>=1.2.3->onnxruntime) (3.6.6)\n",
            "Requirement already satisfied: protobuf in /usr/local/lib/python3.6/dist-packages (from onnx>=1.2.3->onnxruntime) (3.10.0)\n",
            "Requirement already satisfied: setuptools in /usr/local/lib/python3.6/dist-packages (from protobuf->onnx>=1.2.3->onnxruntime) (46.1.3)\n",
            "Installing collected packages: onnx, onnxruntime\n",
            "Successfully installed onnx-1.6.0 onnxruntime-1.2.0\n"
          ],
          "name": "stdout"
        }
      ]
    },
    {
      "cell_type": "code",
      "metadata": {
        "id": "GA6yBkGamz0x",
        "colab_type": "code",
        "colab": {}
      },
      "source": [
        "import onnxruntime\n",
        "import onnx\n",
        "import numpy as np"
      ],
      "execution_count": 0,
      "outputs": []
    },
    {
      "cell_type": "code",
      "metadata": {
        "id": "Ua4Xb9mrGBCA",
        "colab_type": "code",
        "outputId": "80dd734e-aed5-4dc7-d3c7-443bf17db1e9",
        "colab": {
          "base_uri": "https://localhost:8080/",
          "height": 85
        }
      },
      "source": [
        "# Download Onnx file\n",
        "!gdown https://drive.google.com/uc?id=1OiuIu6Gxsdv01XT82bgWBVGwTYxH09RH"
      ],
      "execution_count": 3,
      "outputs": [
        {
          "output_type": "stream",
          "text": [
            "Downloading...\n",
            "From: https://drive.google.com/uc?id=1OiuIu6Gxsdv01XT82bgWBVGwTYxH09RH\n",
            "To: /content/studio.onnx\n",
            "807MB [00:05, 136MB/s]\n"
          ],
          "name": "stdout"
        }
      ]
    },
    {
      "cell_type": "code",
      "metadata": {
        "id": "I_M2DdEnmz01",
        "colab_type": "code",
        "colab": {}
      },
      "source": [
        "# Name and path of the ONNX model\n",
        "input_onnx_model = '/content/studio.onnx'"
      ],
      "execution_count": 0,
      "outputs": []
    },
    {
      "cell_type": "code",
      "metadata": {
        "id": "Kn-pWhdsmz03",
        "colab_type": "code",
        "outputId": "bc8be6f6-c381-4c93-8b7a-ec3391ef1378",
        "colab": {
          "base_uri": "https://localhost:8080/",
          "height": 34
        }
      },
      "source": [
        "# Check if your ONNX model is valid\n",
        "\n",
        "model = onnx.load(input_onnx_model)\n",
        "onnx.checker.check_model(model)\n",
        "\n",
        "print('The ONNX model is checked!')"
      ],
      "execution_count": 5,
      "outputs": [
        {
          "output_type": "stream",
          "text": [
            "The ONNX model is checked!\n"
          ],
          "name": "stdout"
        }
      ]
    },
    {
      "cell_type": "code",
      "metadata": {
        "id": "s6V2Woytmz06",
        "colab_type": "code",
        "colab": {}
      },
      "source": [
        "# Start an ONNX Runtime inference session\n",
        "\n",
        "sess = onnxruntime.InferenceSession(input_onnx_model)"
      ],
      "execution_count": 0,
      "outputs": []
    },
    {
      "cell_type": "markdown",
      "metadata": {
        "id": "QajLfvGqmz09",
        "colab_type": "text"
      },
      "source": [
        "### Identify Inputs and Outputs"
      ]
    },
    {
      "cell_type": "code",
      "metadata": {
        "id": "K_3i8LJFmz09",
        "colab_type": "code",
        "outputId": "c4922440-b96f-4315-c740-515b90514177",
        "colab": {
          "base_uri": "https://localhost:8080/",
          "height": 68
        }
      },
      "source": [
        "input_name = sess.get_inputs()[0].name\n",
        "print(\"Input name  :\", input_name)\n",
        "input_shape = sess.get_inputs()[0].shape\n",
        "print(\"Input shape :\", input_shape)\n",
        "input_type = sess.get_inputs()[0].type\n",
        "print(\"Input type  :\", input_type)"
      ],
      "execution_count": 7,
      "outputs": [
        {
          "output_type": "stream",
          "text": [
            "Input name  : label\n",
            "Input shape : [1, 1, 512, 1024]\n",
            "Input type  : tensor(float)\n"
          ],
          "name": "stdout"
        }
      ]
    },
    {
      "cell_type": "code",
      "metadata": {
        "id": "1qt9es7alnrH",
        "colab_type": "code",
        "outputId": "f95140dd-e509-42ca-d62f-e7077aa0d176",
        "colab": {
          "base_uri": "https://localhost:8080/",
          "height": 68
        }
      },
      "source": [
        "input_name = sess.get_inputs()[1].name\n",
        "print(\"Input name  :\", input_name)\n",
        "input_shape = sess.get_inputs()[1].shape\n",
        "print(\"Input shape :\", input_shape)\n",
        "input_type = sess.get_inputs()[1].type\n",
        "print(\"Input type  :\", input_type)"
      ],
      "execution_count": 9,
      "outputs": [
        {
          "output_type": "stream",
          "text": [
            "Input name  : inst\n",
            "Input shape : [1, 1, 512, 1024]\n",
            "Input type  : tensor(int32)\n"
          ],
          "name": "stdout"
        }
      ]
    },
    {
      "cell_type": "code",
      "metadata": {
        "id": "s84br8AFmz1A",
        "colab_type": "code",
        "outputId": "d672a9ed-f23c-4e98-9696-26ba1dd02c67",
        "colab": {
          "base_uri": "https://localhost:8080/",
          "height": 68
        }
      },
      "source": [
        "output_name = sess.get_outputs()[0].name\n",
        "print(\"Output name  :\", output_name)  \n",
        "output_shape = sess.get_outputs()[0].shape\n",
        "print(\"Output shape :\", output_shape)\n",
        "output_type = sess.get_outputs()[0].type\n",
        "print(\"Output type  :\", output_type)"
      ],
      "execution_count": 12,
      "outputs": [
        {
          "output_type": "stream",
          "text": [
            "Output name  : synthesized_image\n",
            "Output shape : [1, 3, 512, 1024]\n",
            "Output type  : tensor(float)\n"
          ],
          "name": "stdout"
        }
      ]
    },
    {
      "cell_type": "markdown",
      "metadata": {
        "id": "fCMwAKWA5gcf",
        "colab_type": "text"
      },
      "source": [
        "![alt text](https://i.imgur.com/aBI6cE5.jpg)"
      ]
    },
    {
      "cell_type": "markdown",
      "metadata": {
        "id": "ajHdjOfumz1D",
        "colab_type": "text"
      },
      "source": [
        "### Test predictions with ONNX Runtime"
      ]
    },
    {
      "cell_type": "code",
      "metadata": {
        "id": "WUCQ3iY_mz1E",
        "colab_type": "code",
        "colab": {}
      },
      "source": [
        "# replace the values of X with test input for your model\n",
        "\n",
        "label = np.random.random(input_shape)\n",
        "inst = np.random.random(input_shape)"
      ],
      "execution_count": 0,
      "outputs": []
    },
    {
      "cell_type": "code",
      "metadata": {
        "id": "XXjiBtj5JiTE",
        "colab_type": "code",
        "colab": {
          "base_uri": "https://localhost:8080/",
          "height": 388
        },
        "outputId": "2ad2b6bd-68ac-40af-b851-48699b8bd026"
      },
      "source": [
        "    sess = onnxruntime.InferenceSession('/content/studio.onnx')\n",
        "    input_name1 = sess.get_inputs()[0].name\n",
        "    input_name2 = sess.get_inputs()[1].name\n",
        "    pred_onx = sess.run([output_name], ({input_name1, input_name2}))\n",
        "    print(pred_onx)\n"
      ],
      "execution_count": 21,
      "outputs": [
        {
          "output_type": "error",
          "ename": "TypeError",
          "evalue": "ignored",
          "traceback": [
            "\u001b[0;31m---------------------------------------------------------------------------\u001b[0m",
            "\u001b[0;31mTypeError\u001b[0m                                 Traceback (most recent call last)",
            "\u001b[0;32m<ipython-input-21-08995be1d94c>\u001b[0m in \u001b[0;36m<module>\u001b[0;34m()\u001b[0m\n\u001b[1;32m      2\u001b[0m \u001b[0minput_name1\u001b[0m \u001b[0;34m=\u001b[0m \u001b[0msess\u001b[0m\u001b[0;34m.\u001b[0m\u001b[0mget_inputs\u001b[0m\u001b[0;34m(\u001b[0m\u001b[0;34m)\u001b[0m\u001b[0;34m[\u001b[0m\u001b[0;36m0\u001b[0m\u001b[0;34m]\u001b[0m\u001b[0;34m.\u001b[0m\u001b[0mname\u001b[0m\u001b[0;34m\u001b[0m\u001b[0;34m\u001b[0m\u001b[0m\n\u001b[1;32m      3\u001b[0m \u001b[0minput_name2\u001b[0m \u001b[0;34m=\u001b[0m \u001b[0msess\u001b[0m\u001b[0;34m.\u001b[0m\u001b[0mget_inputs\u001b[0m\u001b[0;34m(\u001b[0m\u001b[0;34m)\u001b[0m\u001b[0;34m[\u001b[0m\u001b[0;36m1\u001b[0m\u001b[0;34m]\u001b[0m\u001b[0;34m.\u001b[0m\u001b[0mname\u001b[0m\u001b[0;34m\u001b[0m\u001b[0;34m\u001b[0m\u001b[0m\n\u001b[0;32m----> 4\u001b[0;31m \u001b[0mpred_onx\u001b[0m \u001b[0;34m=\u001b[0m \u001b[0msess\u001b[0m\u001b[0;34m.\u001b[0m\u001b[0mrun\u001b[0m\u001b[0;34m(\u001b[0m\u001b[0;34m[\u001b[0m\u001b[0moutput_name\u001b[0m\u001b[0;34m]\u001b[0m\u001b[0;34m,\u001b[0m \u001b[0;34m(\u001b[0m\u001b[0;34m{\u001b[0m\u001b[0minput_name1\u001b[0m\u001b[0;34m,\u001b[0m \u001b[0minput_name2\u001b[0m\u001b[0;34m}\u001b[0m\u001b[0;34m)\u001b[0m\u001b[0;34m)\u001b[0m\u001b[0;34m\u001b[0m\u001b[0;34m\u001b[0m\u001b[0m\n\u001b[0m",
            "\u001b[0;32m/usr/local/lib/python3.6/dist-packages/onnxruntime/capi/session.py\u001b[0m in \u001b[0;36mrun\u001b[0;34m(self, output_names, input_feed, run_options)\u001b[0m\n\u001b[1;32m    140\u001b[0m             \u001b[0moutput_names\u001b[0m \u001b[0;34m=\u001b[0m \u001b[0;34m[\u001b[0m\u001b[0moutput\u001b[0m\u001b[0;34m.\u001b[0m\u001b[0mname\u001b[0m \u001b[0;32mfor\u001b[0m \u001b[0moutput\u001b[0m \u001b[0;32min\u001b[0m \u001b[0mself\u001b[0m\u001b[0;34m.\u001b[0m\u001b[0m_outputs_meta\u001b[0m\u001b[0;34m]\u001b[0m\u001b[0;34m\u001b[0m\u001b[0;34m\u001b[0m\u001b[0m\n\u001b[1;32m    141\u001b[0m         \u001b[0;32mtry\u001b[0m\u001b[0;34m:\u001b[0m\u001b[0;34m\u001b[0m\u001b[0;34m\u001b[0m\u001b[0m\n\u001b[0;32m--> 142\u001b[0;31m             \u001b[0;32mreturn\u001b[0m \u001b[0mself\u001b[0m\u001b[0;34m.\u001b[0m\u001b[0m_sess\u001b[0m\u001b[0;34m.\u001b[0m\u001b[0mrun\u001b[0m\u001b[0;34m(\u001b[0m\u001b[0moutput_names\u001b[0m\u001b[0;34m,\u001b[0m \u001b[0minput_feed\u001b[0m\u001b[0;34m,\u001b[0m \u001b[0mrun_options\u001b[0m\u001b[0;34m)\u001b[0m\u001b[0;34m\u001b[0m\u001b[0;34m\u001b[0m\u001b[0m\n\u001b[0m\u001b[1;32m    143\u001b[0m         \u001b[0;32mexcept\u001b[0m \u001b[0mC\u001b[0m\u001b[0;34m.\u001b[0m\u001b[0mEPFail\u001b[0m \u001b[0;32mas\u001b[0m \u001b[0merr\u001b[0m\u001b[0;34m:\u001b[0m\u001b[0;34m\u001b[0m\u001b[0;34m\u001b[0m\u001b[0m\n\u001b[1;32m    144\u001b[0m             \u001b[0;32mif\u001b[0m \u001b[0mself\u001b[0m\u001b[0;34m.\u001b[0m\u001b[0m_enable_fallback\u001b[0m\u001b[0;34m:\u001b[0m\u001b[0;34m\u001b[0m\u001b[0;34m\u001b[0m\u001b[0m\n",
            "\u001b[0;31mTypeError\u001b[0m: run(): incompatible function arguments. The following argument types are supported:\n    1. (self: onnxruntime.capi.onnxruntime_pybind11_state.InferenceSession, arg0: List[str], arg1: Dict[str, object], arg2: onnxruntime.capi.onnxruntime_pybind11_state.RunOptions) -> List[object]\n\nInvoked with: <onnxruntime.capi.onnxruntime_pybind11_state.InferenceSession object at 0x7f001d3e9b90>, ['synthesized_image'], {'inst', 'label'}, None"
          ]
        }
      ]
    },
    {
      "cell_type": "code",
      "metadata": {
        "id": "tvqW3zO9mz1J",
        "colab_type": "code",
        "colab": {
          "base_uri": "https://localhost:8080/",
          "height": 164
        },
        "outputId": "0d29d3af-4e64-49cf-e17e-a5d0afc0f5c3"
      },
      "source": [
        "pred_onnx"
      ],
      "execution_count": 19,
      "outputs": [
        {
          "output_type": "error",
          "ename": "NameError",
          "evalue": "ignored",
          "traceback": [
            "\u001b[0;31m---------------------------------------------------------------------------\u001b[0m",
            "\u001b[0;31mNameError\u001b[0m                                 Traceback (most recent call last)",
            "\u001b[0;32m<ipython-input-19-3f7f89f09310>\u001b[0m in \u001b[0;36m<module>\u001b[0;34m()\u001b[0m\n\u001b[0;32m----> 1\u001b[0;31m \u001b[0mpred_onnx\u001b[0m\u001b[0;34m\u001b[0m\u001b[0;34m\u001b[0m\u001b[0m\n\u001b[0m",
            "\u001b[0;31mNameError\u001b[0m: name 'pred_onnx' is not defined"
          ]
        }
      ]
    }
  ]
}